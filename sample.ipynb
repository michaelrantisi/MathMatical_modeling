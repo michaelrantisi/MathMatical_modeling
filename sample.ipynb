{
 "cells": [
  {
   "cell_type": "code",
   "execution_count": 2,
   "metadata": {},
   "outputs": [
    {
     "name": "stdout",
     "output_type": "stream",
     "text": [
      "Iteration 1: x = 2.25\n",
      "Iteration 2: x = 1.5694444444444444\n",
      "Iteration 3: x = 1.4218903638151426\n",
      "Iteration 4: x = 1.4142342859400734\n",
      "Iteration 5: x = 1.4142135625249321\n",
      "Iteration 6: x = 1.4142135623730951\n",
      "Iteration 7: x = 1.414213562373095\n",
      "Iteration 8: x = 1.4142135623730951\n",
      "Iteration 9: x = 1.414213562373095\n"
     ]
    }
   ],
   "source": [
    "import numpy as np\n",
    "def f(x):\n",
    "    return x**2 - 2\n",
    "\n",
    "# derivative of f(x) which is f'(x) = 2x\n",
    "def f_prime(x):\n",
    "    return 2 * x\n",
    "\n",
    "def newtons_method(x0, iterations):\n",
    "    x = x0\n",
    "    for i in range(iterations):\n",
    "        x_new = x - f(x) / f_prime(x)\n",
    "        print(f\"Iteration {i+1}: x = {x_new}\")\n",
    "        x = x_new\n",
    "\n",
    "x0 = 4\n",
    "# Perform 9 iterations\n",
    "newtons_method(x0, 9)\n"
   ]
  }
 ],
 "metadata": {
  "kernelspec": {
   "display_name": "base",
   "language": "python",
   "name": "python3"
  },
  "language_info": {
   "codemirror_mode": {
    "name": "ipython",
    "version": 3
   },
   "file_extension": ".py",
   "mimetype": "text/x-python",
   "name": "python",
   "nbconvert_exporter": "python",
   "pygments_lexer": "ipython3",
   "version": "3.11.3"
  }
 },
 "nbformat": 4,
 "nbformat_minor": 2
}
